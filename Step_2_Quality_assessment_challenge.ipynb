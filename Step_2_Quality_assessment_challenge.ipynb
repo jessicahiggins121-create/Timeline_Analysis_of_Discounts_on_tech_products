{
  "nbformat": 4,
  "nbformat_minor": 0,
  "metadata": {
    "colab": {
      "provenance": [],
      "collapsed_sections": [
        "GjQD8WPe6h0i",
        "M0NhTKzF6jV4",
        "F-rtzwAn7WyS",
        "_d1lwist8F6X",
        "UpynvRcO8QBr",
        "NINPK4rB8TSY",
        "xPos2ipK8VST",
        "FWROzNEd8b8d"
      ]
    },
    "kernelspec": {
      "name": "python3",
      "display_name": "Python 3"
    },
    "language_info": {
      "name": "python"
    }
  },
  "cells": [
    {
      "cell_type": "markdown",
      "source": [
        "# Quality Assessment\n",
        "Now it's your turn. Follow the steps on the platform and use what you've learnt to see how reliable the data is."
      ],
      "metadata": {
        "id": "aSm5aaRLtFLx"
      }
    },
    {
      "cell_type": "code",
      "source": [
        "import pandas as pd"
      ],
      "metadata": {
        "id": "Lq7zsZka4q2m"
      },
      "execution_count": null,
      "outputs": []
    },
    {
      "cell_type": "markdown",
      "source": [
        "Load our cleaned DataFrames"
      ],
      "metadata": {
        "id": "hzwXSr-xfh97"
      }
    },
    {
      "cell_type": "code",
      "source": [
        "# orders_cl.csv\n",
        "url = \"https://drive.google.com/file/d/1tXkMOV-F0rBmw8eT2cTLD1EBcMgo5mj4/view?usp=drive_link\"\n",
        "path = \"https://drive.google.com/uc?export=download&id=\"+url.split(\"/\")[-2]\n",
        "orders_cl = pd.read_csv(path)\n",
        "\n",
        "# orderlines_cl.csv\n",
        "url = \"https://drive.google.com/file/d/1Mv1v7oOexkHRVp5LwPbFBulmEtRT0dv-/view?usp=drive_link\"\n",
        "path = \"https://drive.google.com/uc?export=download&id=\"+url.split(\"/\")[-2]\n",
        "orderlines_cl = pd.read_csv(path)"
      ],
      "metadata": {
        "id": "9GMC8UFo9Qty"
      },
      "execution_count": null,
      "outputs": []
    },
    {
      "cell_type": "code",
      "source": [
        "# products_cl.csv\n",
        "url = \"https://drive.google.com/file/d/1VwhUjAfmkr5FPtvhgrG4fGn7bC3XZReT/view?usp=sharing\"\n",
        "path = \"https://drive.google.com/uc?export=download&id=\"+url.split(\"/\")[-2]\n",
        "products_cl = pd.read_csv(path)"
      ],
      "metadata": {
        "id": "30IJsE7t49Eu"
      },
      "execution_count": null,
      "outputs": []
    },
    {
      "cell_type": "code",
      "source": [
        "products_cl =products_cl.copy()"
      ],
      "metadata": {
        "id": "HQGmM0oXvnKa"
      },
      "execution_count": null,
      "outputs": []
    },
    {
      "cell_type": "code",
      "source": [
        "orderlines_cl =orderlines_cl.copy()"
      ],
      "metadata": {
        "id": "dZ37zeLKvsTy"
      },
      "execution_count": null,
      "outputs": []
    },
    {
      "cell_type": "code",
      "source": [
        "orders_cl =orders_cl.copy()"
      ],
      "metadata": {
        "id": "terqQL5Ovs2O"
      },
      "execution_count": null,
      "outputs": []
    },
    {
      "cell_type": "code",
      "source": [
        "orderlines_cl.info()"
      ],
      "metadata": {
        "colab": {
          "base_uri": "https://localhost:8080/"
        },
        "id": "N4cpdiqa6-zd",
        "outputId": "4d1a8b11-c356-41f0-9425-6149a1192f43"
      },
      "execution_count": null,
      "outputs": [
        {
          "output_type": "stream",
          "name": "stdout",
          "text": [
            "<class 'pandas.core.frame.DataFrame'>\n",
            "RangeIndex: 216250 entries, 0 to 216249\n",
            "Data columns (total 5 columns):\n",
            " #   Column            Non-Null Count   Dtype  \n",
            "---  ------            --------------   -----  \n",
            " 0   order_id          216250 non-null  int64  \n",
            " 1   product_quantity  216250 non-null  int64  \n",
            " 2   sku               216250 non-null  object \n",
            " 3   unit_price        216250 non-null  float64\n",
            " 4   processing_date   216250 non-null  object \n",
            "dtypes: float64(1), int64(2), object(2)\n",
            "memory usage: 8.2+ MB\n"
          ]
        }
      ]
    },
    {
      "cell_type": "code",
      "source": [
        "products_cl.info()"
      ],
      "metadata": {
        "colab": {
          "base_uri": "https://localhost:8080/"
        },
        "id": "5H8PQBiV08-j",
        "outputId": "900c7732-6879-4bc2-ac5d-54660dd1e13f"
      },
      "execution_count": null,
      "outputs": [
        {
          "output_type": "stream",
          "name": "stdout",
          "text": [
            "<class 'pandas.core.frame.DataFrame'>\n",
            "RangeIndex: 10203 entries, 0 to 10202\n",
            "Data columns (total 6 columns):\n",
            " #   Column    Non-Null Count  Dtype  \n",
            "---  ------    --------------  -----  \n",
            " 0   sku       10203 non-null  object \n",
            " 1   name      10203 non-null  object \n",
            " 2   desc      10197 non-null  object \n",
            " 3   price     10157 non-null  float64\n",
            " 4   in_stock  10203 non-null  int64  \n",
            " 5   type      10203 non-null  object \n",
            "dtypes: float64(1), int64(1), object(4)\n",
            "memory usage: 478.4+ KB\n"
          ]
        }
      ]
    },
    {
      "cell_type": "markdown",
      "source": [
        "## 1.&nbsp; Define Pandas display format"
      ],
      "metadata": {
        "id": "GjQD8WPe6h0i"
      }
    },
    {
      "cell_type": "code",
      "execution_count": null,
      "metadata": {
        "id": "SLikKmNx4WNo"
      },
      "outputs": [],
      "source": [
        "# your code here\n",
        "\n",
        "import pandas as pd\n",
        "pd.set_option('display.float_format', lambda x: '%.2f' % x)\n",
        "pd.set_option('display.max_rows', 1000)"
      ]
    },
    {
      "cell_type": "markdown",
      "source": [
        "## 2.&nbsp; Exclude unwanted orders"
      ],
      "metadata": {
        "id": "M0NhTKzF6jV4"
      }
    },
    {
      "cell_type": "markdown",
      "source": [
        "2.1 get rid of cancled and shopping cart orders in your data set. They have not been fully purchased yet."
      ],
      "metadata": {
        "id": "sF5l9l6KKuzJ"
      }
    },
    {
      "cell_type": "code",
      "source": [
        "# your code here\n",
        "#orders_cl.sample(20)\n",
        "\n",
        "state_mask = orders_cl['state'].isin(['Cancelled', 'Shopping Basket'])\n",
        "state_mask.count() # Cancelled and Shopping basket accounted for 226904\n"
      ],
      "metadata": {
        "id": "ja0XpsDDkZrT",
        "colab": {
          "base_uri": "https://localhost:8080/",
          "height": 193
        },
        "outputId": "a3db8872-af2c-4852-ea51-fa05cb33623f"
      },
      "execution_count": null,
      "outputs": [
        {
          "output_type": "error",
          "ename": "NameError",
          "evalue": "name 'orders_cl' is not defined",
          "traceback": [
            "\u001b[0;31m---------------------------------------------------------------------------\u001b[0m",
            "\u001b[0;31mNameError\u001b[0m                                 Traceback (most recent call last)",
            "\u001b[0;32m/tmp/ipython-input-4273368963.py\u001b[0m in \u001b[0;36m<cell line: 0>\u001b[0;34m()\u001b[0m\n\u001b[1;32m      2\u001b[0m \u001b[0;31m#orders_cl.sample(20)\u001b[0m\u001b[0;34m\u001b[0m\u001b[0;34m\u001b[0m\u001b[0m\n\u001b[1;32m      3\u001b[0m \u001b[0;34m\u001b[0m\u001b[0m\n\u001b[0;32m----> 4\u001b[0;31m \u001b[0mstate_mask\u001b[0m \u001b[0;34m=\u001b[0m \u001b[0morders_cl\u001b[0m\u001b[0;34m[\u001b[0m\u001b[0;34m'state'\u001b[0m\u001b[0;34m]\u001b[0m\u001b[0;34m.\u001b[0m\u001b[0misin\u001b[0m\u001b[0;34m(\u001b[0m\u001b[0;34m[\u001b[0m\u001b[0;34m'Cancelled'\u001b[0m\u001b[0;34m,\u001b[0m \u001b[0;34m'Shopping Basket'\u001b[0m\u001b[0;34m]\u001b[0m\u001b[0;34m)\u001b[0m\u001b[0;34m\u001b[0m\u001b[0;34m\u001b[0m\u001b[0m\n\u001b[0m\u001b[1;32m      5\u001b[0m \u001b[0mstate_mask\u001b[0m\u001b[0;34m.\u001b[0m\u001b[0mcount\u001b[0m\u001b[0;34m(\u001b[0m\u001b[0;34m)\u001b[0m \u001b[0;31m# Cancelled and Shopping basket accounted for 226904\u001b[0m\u001b[0;34m\u001b[0m\u001b[0;34m\u001b[0m\u001b[0m\n",
            "\u001b[0;31mNameError\u001b[0m: name 'orders_cl' is not defined"
          ]
        }
      ]
    },
    {
      "cell_type": "code",
      "source": [
        "completed_orders_df = orders_cl.loc[~(state_mask)]\n",
        "completed_orders_df.shape # still have 101862 orders in the document\n",
        "\n",
        "completed_orders_df.info()\n",
        "orderlines_cl.info()"
      ],
      "metadata": {
        "id": "u0CDPJ1JwM7N"
      },
      "execution_count": null,
      "outputs": []
    },
    {
      "cell_type": "markdown",
      "source": [
        "2.2 orderlines –> Keep only orders present in orders."
      ],
      "metadata": {
        "id": "OdwXwqrmK-9s"
      }
    },
    {
      "cell_type": "code",
      "source": [
        "# difference in rows between completed orders and orderlines\n",
        "\n",
        "completed_orders_df['order_id'].nunique(), orderlines_cl['order_id'].nunique()\n",
        "#(101862, 170213) respectively"
      ],
      "metadata": {
        "id": "ZOjuPzezLHYi"
      },
      "execution_count": null,
      "outputs": []
    },
    {
      "cell_type": "code",
      "source": [
        "orders_orderlines = completed_orders_df.merge(orderlines_cl, how=\"inner\", on=\"order_id\")"
      ],
      "metadata": {
        "id": "hU2uO_IV1pCF"
      },
      "execution_count": null,
      "outputs": []
    },
    {
      "cell_type": "code",
      "source": [
        "# order_ids that are in both tables\n",
        "order_ids = orders_orderlines[\"order_id\"].unique()\n",
        "order_ids"
      ],
      "metadata": {
        "colab": {
          "base_uri": "https://localhost:8080/",
          "height": 176
        },
        "id": "OzM1kGgk16ng",
        "outputId": "93ff043b-e306-439f-de0a-042f04a8427c"
      },
      "execution_count": null,
      "outputs": [
        {
          "output_type": "error",
          "ename": "NameError",
          "evalue": "name 'orders_orderlines' is not defined",
          "traceback": [
            "\u001b[0;31m---------------------------------------------------------------------------\u001b[0m",
            "\u001b[0;31mNameError\u001b[0m                                 Traceback (most recent call last)",
            "\u001b[0;32m/tmp/ipython-input-1569996506.py\u001b[0m in \u001b[0;36m<cell line: 0>\u001b[0;34m()\u001b[0m\n\u001b[1;32m      1\u001b[0m \u001b[0;31m# order_ids that are in both tables\u001b[0m\u001b[0;34m\u001b[0m\u001b[0;34m\u001b[0m\u001b[0m\n\u001b[0;32m----> 2\u001b[0;31m \u001b[0morder_ids\u001b[0m \u001b[0;34m=\u001b[0m \u001b[0morders_orderlines\u001b[0m\u001b[0;34m[\u001b[0m\u001b[0;34m\"order_id\"\u001b[0m\u001b[0;34m]\u001b[0m\u001b[0;34m.\u001b[0m\u001b[0munique\u001b[0m\u001b[0;34m(\u001b[0m\u001b[0;34m)\u001b[0m\u001b[0;34m\u001b[0m\u001b[0;34m\u001b[0m\u001b[0m\n\u001b[0m\u001b[1;32m      3\u001b[0m \u001b[0morder_ids\u001b[0m\u001b[0;34m\u001b[0m\u001b[0;34m\u001b[0m\u001b[0m\n",
            "\u001b[0;31mNameError\u001b[0m: name 'orders_orderlines' is not defined"
          ]
        }
      ]
    },
    {
      "cell_type": "code",
      "source": [
        "# keep those ids in orders\n",
        "completed_orders_df = completed_orders_df.loc[completed_orders_df[\"order_id\"].isin(order_ids), :]\n",
        "\n",
        "# keep those ids in orderlines\n",
        "orderlines_cl = orderlines_cl.loc[orderlines_cl[\"order_id\"].isin(order_ids), :]"
      ],
      "metadata": {
        "id": "76hiergN2Jas"
      },
      "execution_count": null,
      "outputs": []
    },
    {
      "cell_type": "code",
      "source": [
        "completed_orders_df[\"order_id\"].nunique(), orderlines_cl[\"order_id\"].nunique()"
      ],
      "metadata": {
        "id": "_zxn-Jzf2fBt"
      },
      "execution_count": null,
      "outputs": []
    },
    {
      "cell_type": "markdown",
      "source": [
        "2.3 orders –> Keep only orders present in orderlines.\n"
      ],
      "metadata": {
        "id": "s9lnasRcLH8g"
      }
    },
    {
      "cell_type": "code",
      "source": [
        "# removing and keeping orders that are present in both orders and orderlines\n",
        "\n",
        "new_orderlines = orderlines_cl.loc[~orderlines_cl['id_order'].isin(only_in_orderlines)]\n",
        "new_orderlines\n",
        "\n",
        "# doubel check to make sure we are not missing anything\n",
        "\n",
        "set(new_orderlines['id_order'])-set(new_orders['order_id']) # nothing returned it is good\n",
        "set(new_orders['order_id'])-set(new_orderlines['id_order']) # nothing returned it is good"
      ],
      "metadata": {
        "id": "VpYl5cI0cHal"
      },
      "execution_count": null,
      "outputs": []
    },
    {
      "cell_type": "code",
      "source": [
        "# we are working with the following quality dataframes and working on it further\n",
        "new_orderlines['id_order'].nunique , new_orders['order_id'].nunique"
      ],
      "metadata": {
        "id": "hmgbO9I9dH6m"
      },
      "execution_count": null,
      "outputs": []
    },
    {
      "cell_type": "markdown",
      "source": [
        "## 3.&nbsp; Exclude orders with unknown products\n"
      ],
      "metadata": {
        "id": "F-rtzwAn7WyS"
      }
    },
    {
      "cell_type": "markdown",
      "source": [
        "We are going to try to remove **orders** from the orders table that contains the products id\"s that no longer exist there ('sku') This will be done to remove the chance of corrupted data in the dataframe. **I want to remove the orders not just the product number from the data frame because it will effect the entire total price and other quanity information and I can't trust things like that**"
      ],
      "metadata": {
        "id": "DaFVEniMeHC3"
      }
    },
    {
      "cell_type": "code",
      "source": [
        "products_cl.info()"
      ],
      "metadata": {
        "colab": {
          "base_uri": "https://localhost:8080/",
          "height": 141
        },
        "id": "ouBVP8TY2xv8",
        "outputId": "edb1dcef-5d7a-4080-8fb7-756cba946107"
      },
      "execution_count": null,
      "outputs": [
        {
          "output_type": "error",
          "ename": "NameError",
          "evalue": "name 'products_cl' is not defined",
          "traceback": [
            "\u001b[0;31m---------------------------------------------------------------------------\u001b[0m",
            "\u001b[0;31mNameError\u001b[0m                                 Traceback (most recent call last)",
            "\u001b[0;32m/tmp/ipython-input-398662483.py\u001b[0m in \u001b[0;36m<cell line: 0>\u001b[0;34m()\u001b[0m\n\u001b[0;32m----> 1\u001b[0;31m \u001b[0mproducts_cl\u001b[0m\u001b[0;34m.\u001b[0m\u001b[0minfo\u001b[0m\u001b[0;34m(\u001b[0m\u001b[0;34m)\u001b[0m\u001b[0;34m\u001b[0m\u001b[0;34m\u001b[0m\u001b[0m\n\u001b[0m",
            "\u001b[0;31mNameError\u001b[0m: name 'products_cl' is not defined"
          ]
        }
      ]
    },
    {
      "cell_type": "code",
      "source": [
        "orderlines_products = orderlines_cl.merge(products_cl, how=\"left\", on = \"sku\")[[\"order_id\",\"sku\",\"name\" ]]\n",
        "orderlines_products.sample(10)\n"
      ],
      "metadata": {
        "id": "EkNqtrfdJGAW",
        "colab": {
          "base_uri": "https://localhost:8080/",
          "height": 158
        },
        "outputId": "2f0df096-a769-4f20-d6f4-f01648a6b2e5"
      },
      "execution_count": null,
      "outputs": [
        {
          "output_type": "error",
          "ename": "NameError",
          "evalue": "name 'orderlines_cl' is not defined",
          "traceback": [
            "\u001b[0;31m---------------------------------------------------------------------------\u001b[0m",
            "\u001b[0;31mNameError\u001b[0m                                 Traceback (most recent call last)",
            "\u001b[0;32m/tmp/ipython-input-4018957758.py\u001b[0m in \u001b[0;36m<cell line: 0>\u001b[0;34m()\u001b[0m\n\u001b[0;32m----> 1\u001b[0;31m \u001b[0morderlines_products\u001b[0m \u001b[0;34m=\u001b[0m \u001b[0morderlines_cl\u001b[0m\u001b[0;34m.\u001b[0m\u001b[0mmerge\u001b[0m\u001b[0;34m(\u001b[0m\u001b[0mproducts_cl\u001b[0m\u001b[0;34m,\u001b[0m \u001b[0mhow\u001b[0m\u001b[0;34m=\u001b[0m\u001b[0;34m\"left\"\u001b[0m\u001b[0;34m,\u001b[0m \u001b[0mon\u001b[0m \u001b[0;34m=\u001b[0m \u001b[0;34m\"sku\"\u001b[0m\u001b[0;34m)\u001b[0m\u001b[0;34m[\u001b[0m\u001b[0;34m[\u001b[0m\u001b[0;34m\"order_id\"\u001b[0m\u001b[0;34m,\u001b[0m\u001b[0;34m\"sku\"\u001b[0m\u001b[0;34m,\u001b[0m\u001b[0;34m\"name\"\u001b[0m \u001b[0;34m]\u001b[0m\u001b[0;34m]\u001b[0m\u001b[0;34m\u001b[0m\u001b[0;34m\u001b[0m\u001b[0m\n\u001b[0m\u001b[1;32m      2\u001b[0m \u001b[0morderlines_products\u001b[0m\u001b[0;34m.\u001b[0m\u001b[0msample\u001b[0m\u001b[0;34m(\u001b[0m\u001b[0;36m10\u001b[0m\u001b[0;34m)\u001b[0m\u001b[0;34m\u001b[0m\u001b[0;34m\u001b[0m\u001b[0m\n",
            "\u001b[0;31mNameError\u001b[0m: name 'orderlines_cl' is not defined"
          ]
        }
      ]
    },
    {
      "cell_type": "code",
      "source": [
        "orders_to_delete = orderlines_products.loc[orderlines_products.name.isna(), \"order_id\"].unique()\n",
        "orders_to_delete"
      ],
      "metadata": {
        "id": "l4Cp_8Hx3BDn"
      },
      "execution_count": null,
      "outputs": []
    },
    {
      "cell_type": "code",
      "source": [
        "orderlines_products.name.isna().value_counts()"
      ],
      "metadata": {
        "id": "mtxc2dfz27a3"
      },
      "execution_count": null,
      "outputs": []
    },
    {
      "cell_type": "code",
      "source": [
        "completed_orders_df = completed_orders_df.loc[~completed_orders_df.order_id.isin(orders_to_delete),:]"
      ],
      "metadata": {
        "id": "vPFPuJdF3B7B",
        "outputId": "ecc3a109-7356-4e67-b5cf-21c15feaec32",
        "colab": {
          "base_uri": "https://localhost:8080/",
          "height": 141
        }
      },
      "execution_count": null,
      "outputs": [
        {
          "output_type": "error",
          "ename": "NameError",
          "evalue": "name 'completed_orders_df' is not defined",
          "traceback": [
            "\u001b[0;31m---------------------------------------------------------------------------\u001b[0m",
            "\u001b[0;31mNameError\u001b[0m                                 Traceback (most recent call last)",
            "\u001b[0;32m/tmp/ipython-input-3133436389.py\u001b[0m in \u001b[0;36m<cell line: 0>\u001b[0;34m()\u001b[0m\n\u001b[0;32m----> 1\u001b[0;31m \u001b[0mcompleted_orders_df\u001b[0m \u001b[0;34m=\u001b[0m \u001b[0mcompleted_orders_df\u001b[0m\u001b[0;34m.\u001b[0m\u001b[0mloc\u001b[0m\u001b[0;34m[\u001b[0m\u001b[0;34m~\u001b[0m\u001b[0mcompleted_orders_df\u001b[0m\u001b[0;34m.\u001b[0m\u001b[0morder_id\u001b[0m\u001b[0;34m.\u001b[0m\u001b[0misin\u001b[0m\u001b[0;34m(\u001b[0m\u001b[0morders_to_delete\u001b[0m\u001b[0;34m)\u001b[0m\u001b[0;34m,\u001b[0m\u001b[0;34m:\u001b[0m\u001b[0;34m]\u001b[0m\u001b[0;34m\u001b[0m\u001b[0;34m\u001b[0m\u001b[0m\n\u001b[0m",
            "\u001b[0;31mNameError\u001b[0m: name 'completed_orders_df' is not defined"
          ]
        }
      ]
    },
    {
      "cell_type": "code",
      "source": [
        "orderlines_cl = orderlines_cl.loc[~orderlines_cl.order_id.isin(orders_to_delete),:]"
      ],
      "metadata": {
        "id": "RZg6RR7rQ2yZ"
      },
      "execution_count": null,
      "outputs": []
    },
    {
      "cell_type": "code",
      "source": [
        "completed_orders_df[\"order_id\"].nunique(), orderlines_cl[\"order_id\"].nunique()"
      ],
      "metadata": {
        "id": "qZmA_6E83lk1"
      },
      "execution_count": null,
      "outputs": []
    },
    {
      "cell_type": "code",
      "source": [
        "orderlines_cl[\"sku\"].nunique(), products_cl[\"sku\"].nunique()"
      ],
      "metadata": {
        "id": "kE3TY96S4UjF"
      },
      "execution_count": null,
      "outputs": []
    },
    {
      "cell_type": "code",
      "source": [
        "orderlines_cl.info(), completed_orders_df.info()"
      ],
      "metadata": {
        "id": "-fesKbW54dxU"
      },
      "execution_count": null,
      "outputs": []
    },
    {
      "cell_type": "markdown",
      "source": [
        "## 4.&nbsp; Explore the revenue from different tables"
      ],
      "metadata": {
        "id": "bCLu78B07gN1"
      }
    },
    {
      "cell_type": "markdown",
      "source": [
        "#### Step 1:\n",
        "Create the `unit_price_total` as `orderlines.unit_price` * `orderlines.product_quantity`"
      ],
      "metadata": {
        "id": "CrmrCXypbflw"
      }
    },
    {
      "cell_type": "code",
      "source": [
        " orderlines_cl_copy = orderlines_cl.copy()\n",
        " orders_cl = completed_orders_df.copy()"
      ],
      "metadata": {
        "id": "c8MApY6jatlO"
      },
      "execution_count": null,
      "outputs": []
    },
    {
      "cell_type": "code",
      "source": [
        "orderlines_cl_copy[\"unit_price_total\"] = orderlines_cl_copy[\"product_quantity\"] * orderlines_cl_copy[\"unit_price\"]\n",
        "orderlines_cl_copy.tail(10)"
      ],
      "metadata": {
        "colab": {
          "base_uri": "https://localhost:8080/",
          "height": 363
        },
        "id": "nQglgbJo4Bwp",
        "outputId": "2249974a-2fcd-4757-f606-f5d0d1f0dc88"
      },
      "execution_count": null,
      "outputs": [
        {
          "output_type": "execute_result",
          "data": {
            "text/plain": [
              "        order_id  product_quantity        sku  unit_price  \\\n",
              "216226    527379                 1    APP0698        9.99   \n",
              "216231    527386                 1    APP1922      161.00   \n",
              "216235    525853                 1  OWC0035-2       71.89   \n",
              "216237    527391                 1    SAT0008       49.99   \n",
              "216238    527392                 1    ZAG0024       34.99   \n",
              "216240    527394                 1    APP1922      161.00   \n",
              "216242    527396                 1    PAC0653      141.58   \n",
              "216243    527384                 1    LAC0227      249.99   \n",
              "216244    527397                 1    JBL0122       42.99   \n",
              "216249    527401                 1    APP0927       13.99   \n",
              "\n",
              "            processing_date  unit_price_total  \n",
              "216226  2018-03-14 13:46:44              9.99  \n",
              "216231  2018-03-14 13:49:48            161.00  \n",
              "216235  2018-03-14 13:52:18             71.89  \n",
              "216237  2018-03-14 13:53:31             49.99  \n",
              "216238  2018-03-14 13:53:44             34.99  \n",
              "216240  2018-03-14 13:55:15            161.00  \n",
              "216242  2018-03-14 13:55:44            141.58  \n",
              "216243  2018-03-14 13:56:02            249.99  \n",
              "216244  2018-03-14 13:56:38             42.99  \n",
              "216249  2018-03-14 13:58:36             13.99  "
            ],
            "text/html": [
              "\n",
              "  <div id=\"df-96e44266-4791-4340-9550-d77a15482cf8\" class=\"colab-df-container\">\n",
              "    <div>\n",
              "<style scoped>\n",
              "    .dataframe tbody tr th:only-of-type {\n",
              "        vertical-align: middle;\n",
              "    }\n",
              "\n",
              "    .dataframe tbody tr th {\n",
              "        vertical-align: top;\n",
              "    }\n",
              "\n",
              "    .dataframe thead th {\n",
              "        text-align: right;\n",
              "    }\n",
              "</style>\n",
              "<table border=\"1\" class=\"dataframe\">\n",
              "  <thead>\n",
              "    <tr style=\"text-align: right;\">\n",
              "      <th></th>\n",
              "      <th>order_id</th>\n",
              "      <th>product_quantity</th>\n",
              "      <th>sku</th>\n",
              "      <th>unit_price</th>\n",
              "      <th>processing_date</th>\n",
              "      <th>unit_price_total</th>\n",
              "    </tr>\n",
              "  </thead>\n",
              "  <tbody>\n",
              "    <tr>\n",
              "      <th>216226</th>\n",
              "      <td>527379</td>\n",
              "      <td>1</td>\n",
              "      <td>APP0698</td>\n",
              "      <td>9.99</td>\n",
              "      <td>2018-03-14 13:46:44</td>\n",
              "      <td>9.99</td>\n",
              "    </tr>\n",
              "    <tr>\n",
              "      <th>216231</th>\n",
              "      <td>527386</td>\n",
              "      <td>1</td>\n",
              "      <td>APP1922</td>\n",
              "      <td>161.00</td>\n",
              "      <td>2018-03-14 13:49:48</td>\n",
              "      <td>161.00</td>\n",
              "    </tr>\n",
              "    <tr>\n",
              "      <th>216235</th>\n",
              "      <td>525853</td>\n",
              "      <td>1</td>\n",
              "      <td>OWC0035-2</td>\n",
              "      <td>71.89</td>\n",
              "      <td>2018-03-14 13:52:18</td>\n",
              "      <td>71.89</td>\n",
              "    </tr>\n",
              "    <tr>\n",
              "      <th>216237</th>\n",
              "      <td>527391</td>\n",
              "      <td>1</td>\n",
              "      <td>SAT0008</td>\n",
              "      <td>49.99</td>\n",
              "      <td>2018-03-14 13:53:31</td>\n",
              "      <td>49.99</td>\n",
              "    </tr>\n",
              "    <tr>\n",
              "      <th>216238</th>\n",
              "      <td>527392</td>\n",
              "      <td>1</td>\n",
              "      <td>ZAG0024</td>\n",
              "      <td>34.99</td>\n",
              "      <td>2018-03-14 13:53:44</td>\n",
              "      <td>34.99</td>\n",
              "    </tr>\n",
              "    <tr>\n",
              "      <th>216240</th>\n",
              "      <td>527394</td>\n",
              "      <td>1</td>\n",
              "      <td>APP1922</td>\n",
              "      <td>161.00</td>\n",
              "      <td>2018-03-14 13:55:15</td>\n",
              "      <td>161.00</td>\n",
              "    </tr>\n",
              "    <tr>\n",
              "      <th>216242</th>\n",
              "      <td>527396</td>\n",
              "      <td>1</td>\n",
              "      <td>PAC0653</td>\n",
              "      <td>141.58</td>\n",
              "      <td>2018-03-14 13:55:44</td>\n",
              "      <td>141.58</td>\n",
              "    </tr>\n",
              "    <tr>\n",
              "      <th>216243</th>\n",
              "      <td>527384</td>\n",
              "      <td>1</td>\n",
              "      <td>LAC0227</td>\n",
              "      <td>249.99</td>\n",
              "      <td>2018-03-14 13:56:02</td>\n",
              "      <td>249.99</td>\n",
              "    </tr>\n",
              "    <tr>\n",
              "      <th>216244</th>\n",
              "      <td>527397</td>\n",
              "      <td>1</td>\n",
              "      <td>JBL0122</td>\n",
              "      <td>42.99</td>\n",
              "      <td>2018-03-14 13:56:38</td>\n",
              "      <td>42.99</td>\n",
              "    </tr>\n",
              "    <tr>\n",
              "      <th>216249</th>\n",
              "      <td>527401</td>\n",
              "      <td>1</td>\n",
              "      <td>APP0927</td>\n",
              "      <td>13.99</td>\n",
              "      <td>2018-03-14 13:58:36</td>\n",
              "      <td>13.99</td>\n",
              "    </tr>\n",
              "  </tbody>\n",
              "</table>\n",
              "</div>\n",
              "    <div class=\"colab-df-buttons\">\n",
              "\n",
              "  <div class=\"colab-df-container\">\n",
              "    <button class=\"colab-df-convert\" onclick=\"convertToInteractive('df-96e44266-4791-4340-9550-d77a15482cf8')\"\n",
              "            title=\"Convert this dataframe to an interactive table.\"\n",
              "            style=\"display:none;\">\n",
              "\n",
              "  <svg xmlns=\"http://www.w3.org/2000/svg\" height=\"24px\" viewBox=\"0 -960 960 960\">\n",
              "    <path d=\"M120-120v-720h720v720H120Zm60-500h600v-160H180v160Zm220 220h160v-160H400v160Zm0 220h160v-160H400v160ZM180-400h160v-160H180v160Zm440 0h160v-160H620v160ZM180-180h160v-160H180v160Zm440 0h160v-160H620v160Z\"/>\n",
              "  </svg>\n",
              "    </button>\n",
              "\n",
              "  <style>\n",
              "    .colab-df-container {\n",
              "      display:flex;\n",
              "      gap: 12px;\n",
              "    }\n",
              "\n",
              "    .colab-df-convert {\n",
              "      background-color: #E8F0FE;\n",
              "      border: none;\n",
              "      border-radius: 50%;\n",
              "      cursor: pointer;\n",
              "      display: none;\n",
              "      fill: #1967D2;\n",
              "      height: 32px;\n",
              "      padding: 0 0 0 0;\n",
              "      width: 32px;\n",
              "    }\n",
              "\n",
              "    .colab-df-convert:hover {\n",
              "      background-color: #E2EBFA;\n",
              "      box-shadow: 0px 1px 2px rgba(60, 64, 67, 0.3), 0px 1px 3px 1px rgba(60, 64, 67, 0.15);\n",
              "      fill: #174EA6;\n",
              "    }\n",
              "\n",
              "    .colab-df-buttons div {\n",
              "      margin-bottom: 4px;\n",
              "    }\n",
              "\n",
              "    [theme=dark] .colab-df-convert {\n",
              "      background-color: #3B4455;\n",
              "      fill: #D2E3FC;\n",
              "    }\n",
              "\n",
              "    [theme=dark] .colab-df-convert:hover {\n",
              "      background-color: #434B5C;\n",
              "      box-shadow: 0px 1px 3px 1px rgba(0, 0, 0, 0.15);\n",
              "      filter: drop-shadow(0px 1px 2px rgba(0, 0, 0, 0.3));\n",
              "      fill: #FFFFFF;\n",
              "    }\n",
              "  </style>\n",
              "\n",
              "    <script>\n",
              "      const buttonEl =\n",
              "        document.querySelector('#df-96e44266-4791-4340-9550-d77a15482cf8 button.colab-df-convert');\n",
              "      buttonEl.style.display =\n",
              "        google.colab.kernel.accessAllowed ? 'block' : 'none';\n",
              "\n",
              "      async function convertToInteractive(key) {\n",
              "        const element = document.querySelector('#df-96e44266-4791-4340-9550-d77a15482cf8');\n",
              "        const dataTable =\n",
              "          await google.colab.kernel.invokeFunction('convertToInteractive',\n",
              "                                                    [key], {});\n",
              "        if (!dataTable) return;\n",
              "\n",
              "        const docLinkHtml = 'Like what you see? Visit the ' +\n",
              "          '<a target=\"_blank\" href=https://colab.research.google.com/notebooks/data_table.ipynb>data table notebook</a>'\n",
              "          + ' to learn more about interactive tables.';\n",
              "        element.innerHTML = '';\n",
              "        dataTable['output_type'] = 'display_data';\n",
              "        await google.colab.output.renderOutput(dataTable, element);\n",
              "        const docLink = document.createElement('div');\n",
              "        docLink.innerHTML = docLinkHtml;\n",
              "        element.appendChild(docLink);\n",
              "      }\n",
              "    </script>\n",
              "  </div>\n",
              "\n",
              "\n",
              "    <div id=\"df-7db0b426-8aad-4ff8-8e4a-37bd4ef03275\">\n",
              "      <button class=\"colab-df-quickchart\" onclick=\"quickchart('df-7db0b426-8aad-4ff8-8e4a-37bd4ef03275')\"\n",
              "                title=\"Suggest charts\"\n",
              "                style=\"display:none;\">\n",
              "\n",
              "<svg xmlns=\"http://www.w3.org/2000/svg\" height=\"24px\"viewBox=\"0 0 24 24\"\n",
              "     width=\"24px\">\n",
              "    <g>\n",
              "        <path d=\"M19 3H5c-1.1 0-2 .9-2 2v14c0 1.1.9 2 2 2h14c1.1 0 2-.9 2-2V5c0-1.1-.9-2-2-2zM9 17H7v-7h2v7zm4 0h-2V7h2v10zm4 0h-2v-4h2v4z\"/>\n",
              "    </g>\n",
              "</svg>\n",
              "      </button>\n",
              "\n",
              "<style>\n",
              "  .colab-df-quickchart {\n",
              "      --bg-color: #E8F0FE;\n",
              "      --fill-color: #1967D2;\n",
              "      --hover-bg-color: #E2EBFA;\n",
              "      --hover-fill-color: #174EA6;\n",
              "      --disabled-fill-color: #AAA;\n",
              "      --disabled-bg-color: #DDD;\n",
              "  }\n",
              "\n",
              "  [theme=dark] .colab-df-quickchart {\n",
              "      --bg-color: #3B4455;\n",
              "      --fill-color: #D2E3FC;\n",
              "      --hover-bg-color: #434B5C;\n",
              "      --hover-fill-color: #FFFFFF;\n",
              "      --disabled-bg-color: #3B4455;\n",
              "      --disabled-fill-color: #666;\n",
              "  }\n",
              "\n",
              "  .colab-df-quickchart {\n",
              "    background-color: var(--bg-color);\n",
              "    border: none;\n",
              "    border-radius: 50%;\n",
              "    cursor: pointer;\n",
              "    display: none;\n",
              "    fill: var(--fill-color);\n",
              "    height: 32px;\n",
              "    padding: 0;\n",
              "    width: 32px;\n",
              "  }\n",
              "\n",
              "  .colab-df-quickchart:hover {\n",
              "    background-color: var(--hover-bg-color);\n",
              "    box-shadow: 0 1px 2px rgba(60, 64, 67, 0.3), 0 1px 3px 1px rgba(60, 64, 67, 0.15);\n",
              "    fill: var(--button-hover-fill-color);\n",
              "  }\n",
              "\n",
              "  .colab-df-quickchart-complete:disabled,\n",
              "  .colab-df-quickchart-complete:disabled:hover {\n",
              "    background-color: var(--disabled-bg-color);\n",
              "    fill: var(--disabled-fill-color);\n",
              "    box-shadow: none;\n",
              "  }\n",
              "\n",
              "  .colab-df-spinner {\n",
              "    border: 2px solid var(--fill-color);\n",
              "    border-color: transparent;\n",
              "    border-bottom-color: var(--fill-color);\n",
              "    animation:\n",
              "      spin 1s steps(1) infinite;\n",
              "  }\n",
              "\n",
              "  @keyframes spin {\n",
              "    0% {\n",
              "      border-color: transparent;\n",
              "      border-bottom-color: var(--fill-color);\n",
              "      border-left-color: var(--fill-color);\n",
              "    }\n",
              "    20% {\n",
              "      border-color: transparent;\n",
              "      border-left-color: var(--fill-color);\n",
              "      border-top-color: var(--fill-color);\n",
              "    }\n",
              "    30% {\n",
              "      border-color: transparent;\n",
              "      border-left-color: var(--fill-color);\n",
              "      border-top-color: var(--fill-color);\n",
              "      border-right-color: var(--fill-color);\n",
              "    }\n",
              "    40% {\n",
              "      border-color: transparent;\n",
              "      border-right-color: var(--fill-color);\n",
              "      border-top-color: var(--fill-color);\n",
              "    }\n",
              "    60% {\n",
              "      border-color: transparent;\n",
              "      border-right-color: var(--fill-color);\n",
              "    }\n",
              "    80% {\n",
              "      border-color: transparent;\n",
              "      border-right-color: var(--fill-color);\n",
              "      border-bottom-color: var(--fill-color);\n",
              "    }\n",
              "    90% {\n",
              "      border-color: transparent;\n",
              "      border-bottom-color: var(--fill-color);\n",
              "    }\n",
              "  }\n",
              "</style>\n",
              "\n",
              "      <script>\n",
              "        async function quickchart(key) {\n",
              "          const quickchartButtonEl =\n",
              "            document.querySelector('#' + key + ' button');\n",
              "          quickchartButtonEl.disabled = true;  // To prevent multiple clicks.\n",
              "          quickchartButtonEl.classList.add('colab-df-spinner');\n",
              "          try {\n",
              "            const charts = await google.colab.kernel.invokeFunction(\n",
              "                'suggestCharts', [key], {});\n",
              "          } catch (error) {\n",
              "            console.error('Error during call to suggestCharts:', error);\n",
              "          }\n",
              "          quickchartButtonEl.classList.remove('colab-df-spinner');\n",
              "          quickchartButtonEl.classList.add('colab-df-quickchart-complete');\n",
              "        }\n",
              "        (() => {\n",
              "          let quickchartButtonEl =\n",
              "            document.querySelector('#df-7db0b426-8aad-4ff8-8e4a-37bd4ef03275 button');\n",
              "          quickchartButtonEl.style.display =\n",
              "            google.colab.kernel.accessAllowed ? 'block' : 'none';\n",
              "        })();\n",
              "      </script>\n",
              "    </div>\n",
              "\n",
              "    </div>\n",
              "  </div>\n"
            ],
            "application/vnd.google.colaboratory.intrinsic+json": {
              "type": "dataframe",
              "repr_error": "0"
            }
          },
          "metadata": {},
          "execution_count": 65
        }
      ]
    },
    {
      "cell_type": "markdown",
      "source": [
        "#### Step 2:\n",
        "Group by `id_order`, summarising by the sum of `unit_price_total`"
      ],
      "metadata": {
        "id": "gkvMUjymbvSC"
      }
    },
    {
      "cell_type": "code",
      "source": [
        "# your code here\n",
        "orderlines_cl_copy[\"unit_price_total\"] = orderlines_qu_copy[\"product_quantity\"] * orderlines_qu_copy[\"unit_price\"]"
      ],
      "metadata": {
        "id": "4hasZA5BaH1k"
      },
      "execution_count": null,
      "outputs": []
    },
    {
      "cell_type": "markdown",
      "source": [
        "### What is the average difference between `total_paid` and `unit_price_total`?"
      ],
      "metadata": {
        "id": "_d1lwist8F6X"
      }
    },
    {
      "cell_type": "code",
      "source": [
        "# your code here"
      ],
      "metadata": {
        "id": "5N02JPCMgyBU"
      },
      "execution_count": null,
      "outputs": []
    },
    {
      "cell_type": "markdown",
      "source": [
        "### What is the distribution of these differences?"
      ],
      "metadata": {
        "id": "UpynvRcO8QBr"
      }
    },
    {
      "cell_type": "code",
      "source": [
        "# your code here"
      ],
      "metadata": {
        "id": "O4RDNgttJSPD"
      },
      "execution_count": null,
      "outputs": []
    },
    {
      "cell_type": "markdown",
      "source": [
        "### Can all the differences be explained by shipping costs? If not, what are other plausible explanations?"
      ],
      "metadata": {
        "id": "NINPK4rB8TSY"
      }
    },
    {
      "cell_type": "code",
      "source": [
        "# your explanation here"
      ],
      "metadata": {
        "id": "_6GvQ28EJUIf"
      },
      "execution_count": null,
      "outputs": []
    },
    {
      "cell_type": "markdown",
      "source": [
        "### If there are differences that you can’t explain: what should you do with these orders?"
      ],
      "metadata": {
        "id": "xPos2ipK8VST"
      }
    },
    {
      "cell_type": "code",
      "source": [
        "# your code here"
      ],
      "metadata": {
        "id": "xqeCAJBt8V3T"
      },
      "execution_count": null,
      "outputs": []
    },
    {
      "cell_type": "markdown",
      "source": [
        "## 5.&nbsp; Become confident about your dataset"
      ],
      "metadata": {
        "id": "FWROzNEd8b8d"
      }
    },
    {
      "cell_type": "markdown",
      "source": [
        "Let's hear your thoughts about what you discovered."
      ],
      "metadata": {
        "id": "qkiySvbwldvU"
      }
    },
    {
      "cell_type": "code",
      "source": [
        "# your thoughts & code here"
      ],
      "metadata": {
        "id": "AR14cjMpfXV0"
      },
      "execution_count": null,
      "outputs": []
    },
    {
      "cell_type": "markdown",
      "source": [
        "Do not forget to download your quality controlled DataFrames"
      ],
      "metadata": {
        "id": "dvyhnpLcfXdd"
      }
    },
    {
      "cell_type": "code",
      "source": [
        "from google.colab import files\n",
        "\n",
        "#orders_quality_controlled.to_csv(\"orders_qu.csv\", index=False)\n",
        "#files.download(\"orders_qu.csv\")\n",
        "\n",
        "#orderlines_quality_controlled.to_csv(\"orderlines_qu.csv\", index=False)\n",
        "#files.download(\"orderlines_qu.csv\")"
      ],
      "metadata": {
        "id": "gUcJc1E6sVOl"
      },
      "execution_count": null,
      "outputs": []
    }
  ]
}